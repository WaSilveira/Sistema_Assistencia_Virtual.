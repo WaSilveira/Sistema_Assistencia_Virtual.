{
  "nbformat": 4,
  "nbformat_minor": 0,
  "metadata": {
    "colab": {
      "provenance": [],
      "authorship_tag": "ABX9TyMygIYZcv0yeOBTbhbzLVKx",
      "include_colab_link": true
    },
    "kernelspec": {
      "name": "python3",
      "display_name": "Python 3"
    },
    "language_info": {
      "name": "python"
    }
  },
  "cells": [
    {
      "cell_type": "markdown",
      "metadata": {
        "id": "view-in-github",
        "colab_type": "text"
      },
      "source": [
        "<a href=\"https://colab.research.google.com/github/WaSilveira/Sistema_Assistencia_Virtual./blob/main/Sistema_Assist%C3%AAncia_Virtual.ipynb\" target=\"_parent\"><img src=\"https://colab.research.google.com/assets/colab-badge.svg\" alt=\"Open In Colab\"/></a>"
      ]
    },
    {
      "cell_type": "code",
      "execution_count": null,
      "metadata": {
        "id": "Bknwzxn1Wqe4"
      },
      "outputs": [],
      "source": [
        "# 1. Instalação das Bibliotecas Necessárias\n",
        "!pip install pyttsx3 pyaudio speechrecognition"
      ]
    },
    {
      "cell_type": "code",
      "source": [
        "# 2. Módulo de Transformação de Texto em Áudio (Text to Speech)\n",
        "import pyttsx3\n",
        "\n",
        "def text_to_speech(text):\n",
        "    engine = pyttsx3.init()\n",
        "    engine.save_to_file(text, 'output.mp3')\n",
        "    engine.runAndWait()\n",
        "    from IPython.display import Audio, display\n",
        "    display(Audio('output.mp3', autoplay=True))"
      ],
      "metadata": {
        "id": "wJnTtNarWzVX"
      },
      "execution_count": null,
      "outputs": []
    },
    {
      "cell_type": "code",
      "source": [
        "# 3. Módulo de Transformação de Fala em Texto (Speech to Text)\n",
        "import speech_recognition as sr\n",
        "\n",
        "def speech_to_text():\n",
        "    recognizer = sr.Recognizer()\n",
        "    print(\"Por favor, carregue um arquivo de áudio no formato WAV.\")\n",
        "    from google.colab import files\n",
        "    uploaded = files.upload()\n",
        "    for filename in uploaded.keys():\n",
        "        with sr.AudioFile(filename) as source:\n",
        "            audio = recognizer.record(source)\n",
        "    try:\n",
        "        text = recognizer.recognize_google(audio, language='pt-BR')\n",
        "        print(\"Você disse: \" + text)\n",
        "        return text\n",
        "    except sr.UnknownValueError:\n",
        "        print(\"Não consegui entender o que você disse.\")\n",
        "        return \"\"\n",
        "    except sr.RequestError:\n",
        "        print(\"Erro ao solicitar resultados; verifique sua conexão com a internet.\")\n",
        "        return \"\""
      ],
      "metadata": {
        "id": "-Gt2LwV3W9Bz"
      },
      "execution_count": null,
      "outputs": []
    },
    {
      "cell_type": "code",
      "source": [
        "# 4. Módulo de Comando de Voz para Ações Automatizadas\n",
        "import webbrowser\n",
        "\n",
        "def open_wikipedia():\n",
        "    webbrowser.open(\"https://www.wikipedia.org\")\n",
        "\n",
        "def open_youtube():\n",
        "    webbrowser.open(\"https://www.youtube.com\")\n",
        "\n",
        "def find_nearest_pharmacy():\n",
        "    print(\"Exibindo a farmácia mais próxima.\")\n",
        "\n",
        "def execute_command(command):\n",
        "    if \"Wikipedia\" in command:\n",
        "        open_wikipedia()\n",
        "    elif \"YouTube\" in command:\n",
        "        open_youtube()\n",
        "    elif \"farmácia\" in command:\n",
        "        find_nearest_pharmacy()\n",
        "    else:\n",
        "        print(\"Comando não reconhecido.\")\n",
        "\n",
        "def main():\n",
        "    while True:\n",
        "        command = speech_to_text()\n",
        "        if command:\n",
        "            execute_command(command)\n",
        "        else:\n",
        "            break\n",
        "\n",
        "if __name__ == \"__main__\":\n",
        "    main()"
      ],
      "metadata": {
        "id": "LSzHPHlBXEqs"
      },
      "execution_count": null,
      "outputs": []
    }
  ]
}